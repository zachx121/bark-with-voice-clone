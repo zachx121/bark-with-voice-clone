{
 "cells": [
  {
   "cell_type": "code",
   "execution_count": 2,
   "metadata": {},
   "outputs": [
    {
     "name": "stderr",
     "output_type": "stream",
     "text": [
      "/Users/didi/miniconda3/envs/torch/lib/python3.8/site-packages/tqdm/auto.py:21: TqdmWarning: IProgress not found. Please update jupyter and ipywidgets. See https://ipywidgets.readthedocs.io/en/stable/user_install.html\n",
      "  from .autonotebook import tqdm as notebook_tqdm\n"
     ]
    }
   ],
   "source": [
    "from bark.generation import load_codec_model, generate_text_semantic\n",
    "from encodec.utils import convert_audio\n",
    "\n",
    "import torchaudio\n",
    "import torch\n",
    "\n",
    "model = load_codec_model(use_gpu=True)"
   ]
  },
  {
   "cell_type": "code",
   "execution_count": 3,
   "metadata": {},
   "outputs": [],
   "source": [
    "# Load and pre-process the audio waveform\n",
    "audio_filepath = 'audio_CXM.wav' # the audio you want to clone (will get truncated so 5-10 seconds is probably fine, existing samples that I checked are around 7 seconds)\n",
    "#device = 'cuda' # or 'cpu'\n",
    "device = 'cpu'\n",
    "wav, sr = torchaudio.load(audio_filepath)\n",
    "wav = convert_audio(wav, sr, model.sample_rate, model.channels)\n",
    "wav = wav.unsqueeze(0).to(device)"
   ]
  },
  {
   "cell_type": "code",
   "execution_count": 4,
   "metadata": {},
   "outputs": [],
   "source": [
    "# Extract discrete codes from EnCodec\n",
    "with torch.no_grad():\n",
    "    encoded_frames = model.encode(wav)\n",
    "codes = torch.cat([encoded[0] for encoded in encoded_frames], dim=-1).squeeze()  # [n_q, T]"
   ]
  },
  {
   "cell_type": "code",
   "execution_count": 5,
   "metadata": {},
   "outputs": [],
   "source": [
    "text = \"面对的是一个几十亿几百亿的市场，所以他们不会在乎这么一点的投入，他们不会想到他们根本做不成，你懂吗？\""
   ]
  },
  {
   "cell_type": "code",
   "execution_count": 7,
   "metadata": {},
   "outputs": [
    {
     "name": "stderr",
     "output_type": "stream",
     "text": [
      "No GPU being used. Careful, inference might be very slow!\n"
     ]
    },
    {
     "ename": "LocalEntryNotFoundError",
     "evalue": "Connection error, and we cannot find the requested files in the disk cache. Please try again or make sure your Internet connection is on.",
     "output_type": "error",
     "traceback": [
      "\u001b[0;31m---------------------------------------------------------------------------\u001b[0m",
      "\u001b[0;31mLocalEntryNotFoundError\u001b[0m                   Traceback (most recent call last)",
      "\u001b[1;32m/Users/didi/0-Code/bark-with-voice-clone/clone_voice.ipynb Cell 5\u001b[0m in \u001b[0;36m<cell line: 4>\u001b[0;34m()\u001b[0m\n\u001b[1;32m      <a href='vscode-notebook-cell:/Users/didi/0-Code/bark-with-voice-clone/clone_voice.ipynb#W4sZmlsZQ%3D%3D?line=1'>2</a>\u001b[0m seconds \u001b[39m=\u001b[39m wav\u001b[39m.\u001b[39mshape[\u001b[39m-\u001b[39m\u001b[39m1\u001b[39m] \u001b[39m/\u001b[39m model\u001b[39m.\u001b[39msample_rate\n\u001b[1;32m      <a href='vscode-notebook-cell:/Users/didi/0-Code/bark-with-voice-clone/clone_voice.ipynb#W4sZmlsZQ%3D%3D?line=2'>3</a>\u001b[0m \u001b[39m# generate semantic tokens\u001b[39;00m\n\u001b[0;32m----> <a href='vscode-notebook-cell:/Users/didi/0-Code/bark-with-voice-clone/clone_voice.ipynb#W4sZmlsZQ%3D%3D?line=3'>4</a>\u001b[0m semantic_tokens \u001b[39m=\u001b[39m generate_text_semantic(text, max_gen_duration_s\u001b[39m=\u001b[39;49mseconds, top_k\u001b[39m=\u001b[39;49m\u001b[39m50\u001b[39;49m, top_p\u001b[39m=\u001b[39;49m\u001b[39m.95\u001b[39;49m, temp\u001b[39m=\u001b[39;49m\u001b[39m0.7\u001b[39;49m) \u001b[39m# not 100% sure on this part\u001b[39;00m\n",
      "File \u001b[0;32m~/0-Code/bark-with-voice-clone/bark/generation.py:395\u001b[0m, in \u001b[0;36mgenerate_text_semantic\u001b[0;34m(text, history_prompt, temp, top_k, top_p, silent, min_eos_p, max_gen_duration_s, allow_early_stop, use_kv_caching)\u001b[0m\n\u001b[1;32m    393\u001b[0m \u001b[39mglobal\u001b[39;00m models_devices\n\u001b[1;32m    394\u001b[0m \u001b[39mif\u001b[39;00m \u001b[39m\"\u001b[39m\u001b[39mtext\u001b[39m\u001b[39m\"\u001b[39m \u001b[39mnot\u001b[39;00m \u001b[39min\u001b[39;00m models:\n\u001b[0;32m--> 395\u001b[0m     preload_models()\n\u001b[1;32m    396\u001b[0m model_container \u001b[39m=\u001b[39m models[\u001b[39m\"\u001b[39m\u001b[39mtext\u001b[39m\u001b[39m\"\u001b[39m]\n\u001b[1;32m    397\u001b[0m model \u001b[39m=\u001b[39m model_container[\u001b[39m\"\u001b[39m\u001b[39mmodel\u001b[39m\u001b[39m\"\u001b[39m]\n",
      "File \u001b[0;32m~/0-Code/bark-with-voice-clone/bark/generation.py:322\u001b[0m, in \u001b[0;36mpreload_models\u001b[0;34m(text_use_gpu, text_use_small, coarse_use_gpu, coarse_use_small, fine_use_gpu, fine_use_small, codec_use_gpu, force_reload, path)\u001b[0m\n\u001b[1;32m    318\u001b[0m \u001b[39mif\u001b[39;00m _grab_best_device() \u001b[39m==\u001b[39m \u001b[39m\"\u001b[39m\u001b[39mcpu\u001b[39m\u001b[39m\"\u001b[39m \u001b[39mand\u001b[39;00m (\n\u001b[1;32m    319\u001b[0m     text_use_gpu \u001b[39mor\u001b[39;00m coarse_use_gpu \u001b[39mor\u001b[39;00m fine_use_gpu \u001b[39mor\u001b[39;00m codec_use_gpu\n\u001b[1;32m    320\u001b[0m ):\n\u001b[1;32m    321\u001b[0m     logger\u001b[39m.\u001b[39mwarning(\u001b[39m\"\u001b[39m\u001b[39mNo GPU being used. Careful, inference might be very slow!\u001b[39m\u001b[39m\"\u001b[39m)\n\u001b[0;32m--> 322\u001b[0m _ \u001b[39m=\u001b[39m load_model(\n\u001b[1;32m    323\u001b[0m     model_type\u001b[39m=\u001b[39;49m\u001b[39m\"\u001b[39;49m\u001b[39mtext\u001b[39;49m\u001b[39m\"\u001b[39;49m, use_gpu\u001b[39m=\u001b[39;49mtext_use_gpu, use_small\u001b[39m=\u001b[39;49mtext_use_small, force_reload\u001b[39m=\u001b[39;49mforce_reload, path\u001b[39m=\u001b[39;49mpath\n\u001b[1;32m    324\u001b[0m )\n\u001b[1;32m    325\u001b[0m _ \u001b[39m=\u001b[39m load_model(\n\u001b[1;32m    326\u001b[0m     model_type\u001b[39m=\u001b[39m\u001b[39m\"\u001b[39m\u001b[39mcoarse\u001b[39m\u001b[39m\"\u001b[39m,\n\u001b[1;32m    327\u001b[0m     use_gpu\u001b[39m=\u001b[39mcoarse_use_gpu,\n\u001b[0;32m   (...)\u001b[0m\n\u001b[1;32m    330\u001b[0m     path\u001b[39m=\u001b[39mpath,\n\u001b[1;32m    331\u001b[0m )\n\u001b[1;32m    332\u001b[0m _ \u001b[39m=\u001b[39m load_model(\n\u001b[1;32m    333\u001b[0m     model_type\u001b[39m=\u001b[39m\u001b[39m\"\u001b[39m\u001b[39mfine\u001b[39m\u001b[39m\"\u001b[39m, use_gpu\u001b[39m=\u001b[39mfine_use_gpu, use_small\u001b[39m=\u001b[39mfine_use_small, force_reload\u001b[39m=\u001b[39mforce_reload, path\u001b[39m=\u001b[39mpath\n\u001b[1;32m    334\u001b[0m )\n",
      "File \u001b[0;32m~/0-Code/bark-with-voice-clone/bark/generation.py:278\u001b[0m, in \u001b[0;36mload_model\u001b[0;34m(use_gpu, use_small, force_reload, model_type, path)\u001b[0m\n\u001b[1;32m    276\u001b[0m     ckpt_path \u001b[39m=\u001b[39m _get_ckpt_path(model_type, use_small\u001b[39m=\u001b[39muse_small, path\u001b[39m=\u001b[39mpath)\n\u001b[1;32m    277\u001b[0m     clean_models(model_key\u001b[39m=\u001b[39mmodel_key)\n\u001b[0;32m--> 278\u001b[0m     model \u001b[39m=\u001b[39m _load_model_f(ckpt_path, device)\n\u001b[1;32m    279\u001b[0m     models[model_key] \u001b[39m=\u001b[39m model\n\u001b[1;32m    280\u001b[0m \u001b[39mif\u001b[39;00m model_type \u001b[39m==\u001b[39m \u001b[39m\"\u001b[39m\u001b[39mtext\u001b[39m\u001b[39m\"\u001b[39m:\n",
      "File \u001b[0;32m~/0-Code/bark-with-voice-clone/bark/generation.py:214\u001b[0m, in \u001b[0;36m_load_model\u001b[0;34m(ckpt_path, device, use_small, model_type)\u001b[0m\n\u001b[1;32m    212\u001b[0m \u001b[39mif\u001b[39;00m \u001b[39mnot\u001b[39;00m os\u001b[39m.\u001b[39mpath\u001b[39m.\u001b[39mexists(ckpt_path):\n\u001b[1;32m    213\u001b[0m     logger\u001b[39m.\u001b[39minfo(\u001b[39mf\u001b[39m\u001b[39m\"\u001b[39m\u001b[39m{\u001b[39;00mmodel_type\u001b[39m}\u001b[39;00m\u001b[39m model not found, downloading into `\u001b[39m\u001b[39m{\u001b[39;00mCACHE_DIR\u001b[39m}\u001b[39;00m\u001b[39m`.\u001b[39m\u001b[39m\"\u001b[39m)\n\u001b[0;32m--> 214\u001b[0m     _download(model_info[\u001b[39m\"\u001b[39;49m\u001b[39mrepo_id\u001b[39;49m\u001b[39m\"\u001b[39;49m], model_info[\u001b[39m\"\u001b[39;49m\u001b[39mfile_name\u001b[39;49m\u001b[39m\"\u001b[39;49m], ckpt_path)\n\u001b[1;32m    215\u001b[0m checkpoint \u001b[39m=\u001b[39m torch\u001b[39m.\u001b[39mload(ckpt_path, map_location\u001b[39m=\u001b[39mdevice)\n\u001b[1;32m    216\u001b[0m \u001b[39m# this is a hack\u001b[39;00m\n",
      "File \u001b[0;32m~/0-Code/bark-with-voice-clone/bark/generation.py:148\u001b[0m, in \u001b[0;36m_download\u001b[0;34m(from_hf_path, file_name, to_local_path)\u001b[0m\n\u001b[1;32m    146\u001b[0m path \u001b[39m=\u001b[39m \u001b[39m'\u001b[39m\u001b[39m/\u001b[39m\u001b[39m'\u001b[39m\u001b[39m.\u001b[39mjoin(to_local_path\u001b[39m.\u001b[39msplit(\u001b[39m\"\u001b[39m\u001b[39m/\u001b[39m\u001b[39m\"\u001b[39m)[:\u001b[39m-\u001b[39m\u001b[39m1\u001b[39m])\n\u001b[1;32m    147\u001b[0m os\u001b[39m.\u001b[39mmakedirs(path, exist_ok\u001b[39m=\u001b[39m\u001b[39mTrue\u001b[39;00m)\n\u001b[0;32m--> 148\u001b[0m hf_hub_download(repo_id\u001b[39m=\u001b[39;49mfrom_hf_path, filename\u001b[39m=\u001b[39;49mfile_name, local_dir\u001b[39m=\u001b[39;49mpath)\n\u001b[1;32m    149\u001b[0m os\u001b[39m.\u001b[39mreplace(os\u001b[39m.\u001b[39mpath\u001b[39m.\u001b[39mjoin(path, file_name), to_local_path)\n",
      "File \u001b[0;32m~/miniconda3/envs/torch/lib/python3.8/site-packages/huggingface_hub/utils/_validators.py:120\u001b[0m, in \u001b[0;36mvalidate_hf_hub_args.<locals>._inner_fn\u001b[0;34m(*args, **kwargs)\u001b[0m\n\u001b[1;32m    117\u001b[0m \u001b[39mif\u001b[39;00m check_use_auth_token:\n\u001b[1;32m    118\u001b[0m     kwargs \u001b[39m=\u001b[39m smoothly_deprecate_use_auth_token(fn_name\u001b[39m=\u001b[39mfn\u001b[39m.\u001b[39m\u001b[39m__name__\u001b[39m, has_token\u001b[39m=\u001b[39mhas_token, kwargs\u001b[39m=\u001b[39mkwargs)\n\u001b[0;32m--> 120\u001b[0m \u001b[39mreturn\u001b[39;00m fn(\u001b[39m*\u001b[39;49margs, \u001b[39m*\u001b[39;49m\u001b[39m*\u001b[39;49mkwargs)\n",
      "File \u001b[0;32m~/miniconda3/envs/torch/lib/python3.8/site-packages/huggingface_hub/file_download.py:1291\u001b[0m, in \u001b[0;36mhf_hub_download\u001b[0;34m(repo_id, filename, subfolder, repo_type, revision, library_name, library_version, cache_dir, local_dir, local_dir_use_symlinks, user_agent, force_download, force_filename, proxies, etag_timeout, resume_download, token, local_files_only, legacy_cache_layout)\u001b[0m\n\u001b[1;32m   1285\u001b[0m         \u001b[39mraise\u001b[39;00m LocalEntryNotFoundError(\n\u001b[1;32m   1286\u001b[0m             \u001b[39m\"\u001b[39m\u001b[39mCannot find the requested files in the disk cache and\u001b[39m\u001b[39m\"\u001b[39m\n\u001b[1;32m   1287\u001b[0m             \u001b[39m\"\u001b[39m\u001b[39m outgoing traffic has been disabled. To enable hf.co look-ups\u001b[39m\u001b[39m\"\u001b[39m\n\u001b[1;32m   1288\u001b[0m             \u001b[39m\"\u001b[39m\u001b[39m and downloads online, set \u001b[39m\u001b[39m'\u001b[39m\u001b[39mlocal_files_only\u001b[39m\u001b[39m'\u001b[39m\u001b[39m to False.\u001b[39m\u001b[39m\"\u001b[39m\n\u001b[1;32m   1289\u001b[0m         )\n\u001b[1;32m   1290\u001b[0m     \u001b[39melse\u001b[39;00m:\n\u001b[0;32m-> 1291\u001b[0m         \u001b[39mraise\u001b[39;00m LocalEntryNotFoundError(\n\u001b[1;32m   1292\u001b[0m             \u001b[39m\"\u001b[39m\u001b[39mConnection error, and we cannot find the requested files in\u001b[39m\u001b[39m\"\u001b[39m\n\u001b[1;32m   1293\u001b[0m             \u001b[39m\"\u001b[39m\u001b[39m the disk cache. Please try again or make sure your Internet\u001b[39m\u001b[39m\"\u001b[39m\n\u001b[1;32m   1294\u001b[0m             \u001b[39m\"\u001b[39m\u001b[39m connection is on.\u001b[39m\u001b[39m\"\u001b[39m\n\u001b[1;32m   1295\u001b[0m         )\n\u001b[1;32m   1297\u001b[0m \u001b[39m# From now on, etag and commit_hash are not None.\u001b[39;00m\n\u001b[1;32m   1298\u001b[0m \u001b[39massert\u001b[39;00m etag \u001b[39mis\u001b[39;00m \u001b[39mnot\u001b[39;00m \u001b[39mNone\u001b[39;00m, \u001b[39m\"\u001b[39m\u001b[39metag must have been retrieved from server\u001b[39m\u001b[39m\"\u001b[39m\n",
      "\u001b[0;31mLocalEntryNotFoundError\u001b[0m: Connection error, and we cannot find the requested files in the disk cache. Please try again or make sure your Internet connection is on."
     ]
    }
   ],
   "source": [
    "# get seconds of audio\n",
    "seconds = wav.shape[-1] / model.sample_rate\n",
    "# generate semantic tokens\n",
    "semantic_tokens = generate_text_semantic(text, max_gen_duration_s=seconds, top_k=50, top_p=.95, temp=0.7) # not 100% sure on this part"
   ]
  },
  {
   "cell_type": "code",
   "execution_count": null,
   "metadata": {},
   "outputs": [],
   "source": [
    "# move codes to cpu\n",
    "codes = codes.cpu().numpy()"
   ]
  },
  {
   "cell_type": "code",
   "execution_count": null,
   "metadata": {},
   "outputs": [],
   "source": [
    "import numpy as np\n",
    "voice_name = 'output' # whatever you want the name of the voice to be\n",
    "output_path = 'bark/assets/prompts/' + voice_name + '.npz'\n",
    "np.savez(output_path, fine_prompt=codes, coarse_prompt=codes[:2, :], semantic_prompt=semantic_tokens)"
   ]
  },
  {
   "cell_type": "code",
   "execution_count": null,
   "metadata": {},
   "outputs": [],
   "source": [
    "# That's it! Now you can head over to the generate.ipynb and use your voice_name for the 'history_prompt'"
   ]
  },
  {
   "cell_type": "code",
   "execution_count": null,
   "metadata": {},
   "outputs": [],
   "source": [
    "# Heres the generation stuff copy-pasted for convenience"
   ]
  },
  {
   "cell_type": "code",
   "execution_count": null,
   "metadata": {},
   "outputs": [],
   "source": [
    "from bark.api import generate_audio\n",
    "from transformers import BertTokenizer\n",
    "from bark.generation import SAMPLE_RATE, preload_models, codec_decode, generate_coarse, generate_fine, generate_text_semantic\n",
    "\n",
    "# Enter your prompt and speaker here\n",
    "text_prompt = \"Hello, my name is Serpy. And, uh — and I like pizza. [laughs]\"\n",
    "voice_name = \"speaker_0\" # use your custom voice name here if you have one\n",
    "\n",
    "# load the tokenizer\n",
    "tokenizer = BertTokenizer.from_pretrained(\"bert-base-multilingual-cased\")"
   ]
  },
  {
   "cell_type": "code",
   "execution_count": null,
   "metadata": {},
   "outputs": [],
   "source": [
    "# download and load all models\n",
    "preload_models(\n",
    "    text_use_gpu=True,\n",
    "    text_use_small=False,\n",
    "    coarse_use_gpu=True,\n",
    "    coarse_use_small=False,\n",
    "    fine_use_gpu=True,\n",
    "    fine_use_small=False,\n",
    "    codec_use_gpu=True,\n",
    "    force_reload=False,\n",
    "    path=\"models\"\n",
    ")"
   ]
  },
  {
   "cell_type": "code",
   "execution_count": null,
   "metadata": {},
   "outputs": [],
   "source": [
    "# simple generation\n",
    "audio_array = generate_audio(text_prompt, history_prompt=voice_name, text_temp=0.7, waveform_temp=0.7)"
   ]
  },
  {
   "cell_type": "code",
   "execution_count": null,
   "metadata": {},
   "outputs": [],
   "source": [
    "# generation with more control\n",
    "x_semantic = generate_text_semantic(\n",
    "    text_prompt,\n",
    "    history_prompt=voice_name,\n",
    "    temp=0.7,\n",
    "    top_k=50,\n",
    "    top_p=0.95,\n",
    ")\n",
    "\n",
    "x_coarse_gen = generate_coarse(\n",
    "    x_semantic,\n",
    "    history_prompt=voice_name,\n",
    "    temp=0.7,\n",
    "    top_k=50,\n",
    "    top_p=0.95,\n",
    ")\n",
    "x_fine_gen = generate_fine(\n",
    "    x_coarse_gen,\n",
    "    history_prompt=voice_name,\n",
    "    temp=0.5,\n",
    ")\n",
    "audio_array = codec_decode(x_fine_gen)"
   ]
  },
  {
   "cell_type": "code",
   "execution_count": null,
   "metadata": {},
   "outputs": [],
   "source": [
    "from IPython.display import Audio\n",
    "# play audio\n",
    "Audio(audio_array, rate=SAMPLE_RATE)"
   ]
  },
  {
   "cell_type": "code",
   "execution_count": null,
   "metadata": {},
   "outputs": [],
   "source": [
    "from scipy.io.wavfile import write as write_wav\n",
    "# save audio\n",
    "filepath = \"/output/audio.wav\" # change this to your desired output path\n",
    "write_wav(filepath, SAMPLE_RATE, audio_array)"
   ]
  }
 ],
 "metadata": {
  "kernelspec": {
   "display_name": "Python 3",
   "language": "python",
   "name": "python3"
  },
  "language_info": {
   "codemirror_mode": {
    "name": "ipython",
    "version": 3
   },
   "file_extension": ".py",
   "mimetype": "text/x-python",
   "name": "python",
   "nbconvert_exporter": "python",
   "pygments_lexer": "ipython3",
   "version": "3.8.16"
  },
  "orig_nbformat": 4
 },
 "nbformat": 4,
 "nbformat_minor": 2
}
